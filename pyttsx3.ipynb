{
 "cells": [
  {
   "cell_type": "markdown",
   "id": "d13f1f86",
   "metadata": {},
   "source": [
    "# Speaking text"
   ]
  },
  {
   "cell_type": "code",
   "execution_count": 2,
   "id": "adb03a3d",
   "metadata": {},
   "outputs": [],
   "source": [
    "import pyttsx3\n",
    "engine = pyttsx3.init()\n",
    "engine.say(\"this is vishva\")\n",
    "engine.runAndWait()"
   ]
  },
  {
   "cell_type": "markdown",
   "id": "bb70ba8f",
   "metadata": {},
   "source": [
    "# Saving voice to a file"
   ]
  },
  {
   "cell_type": "code",
   "execution_count": 3,
   "id": "9c7e1e12",
   "metadata": {},
   "outputs": [],
   "source": [
    "import pyttsx3\n",
    "engine = pyttsx3.init()\n",
    "engine.save_to_file('Hello World' , 'test.mp3')\n",
    "engine.runAndWait()"
   ]
  },
  {
   "cell_type": "markdown",
   "id": "163b92b9",
   "metadata": {},
   "source": [
    "# Changing voices"
   ]
  },
  {
   "cell_type": "code",
   "execution_count": 6,
   "id": "dfcd6099",
   "metadata": {},
   "outputs": [],
   "source": [
    "engine = pyttsx3.init()\n",
    "voices = engine.getProperty('voices')\n",
    "for voice in voices:\n",
    "   engine.setProperty('voice', voice.id)\n",
    "   engine.say('The quick brown fox jumped over the lazy dog.')\n",
    "engine.runAndWait()"
   ]
  },
  {
   "cell_type": "markdown",
   "id": "49866571",
   "metadata": {},
   "source": [
    "# Changing speech rate"
   ]
  },
  {
   "cell_type": "code",
   "execution_count": 15,
   "id": "a84b9a36",
   "metadata": {},
   "outputs": [],
   "source": [
    "engine = pyttsx3.init()\n",
    "rate = engine.getProperty('rate')\n",
    "engine.setProperty('rate', rate+10)\n",
    "engine.say('The quick brown fox jumped over the lazy dog.')\n",
    "engine.runAndWait()"
   ]
  },
  {
   "cell_type": "markdown",
   "id": "81853a4f",
   "metadata": {},
   "source": [
    "# Changing volume"
   ]
  },
  {
   "cell_type": "code",
   "execution_count": 20,
   "id": "c0fce489",
   "metadata": {},
   "outputs": [],
   "source": [
    "engine = pyttsx3.init()\n",
    "volume = engine.getProperty('volume')\n",
    "engine.setProperty('volume', volume-0.25)\n",
    "engine.say('The quick brown fox jumped over the lazy dog.')\n",
    "engine.runAndWait()"
   ]
  },
  {
   "cell_type": "code",
   "execution_count": null,
   "id": "9faff849",
   "metadata": {},
   "outputs": [],
   "source": []
  },
  {
   "cell_type": "code",
   "execution_count": null,
   "id": "a031f969",
   "metadata": {},
   "outputs": [],
   "source": []
  }
 ],
 "metadata": {
  "kernelspec": {
   "display_name": "Python 3 (ipykernel)",
   "language": "python",
   "name": "python3"
  },
  "language_info": {
   "codemirror_mode": {
    "name": "ipython",
    "version": 3
   },
   "file_extension": ".py",
   "mimetype": "text/x-python",
   "name": "python",
   "nbconvert_exporter": "python",
   "pygments_lexer": "ipython3",
   "version": "3.9.13"
  }
 },
 "nbformat": 4,
 "nbformat_minor": 5
}
